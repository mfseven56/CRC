{
  "nbformat": 4,
  "nbformat_minor": 0,
  "metadata": {
    "kernelspec": {
      "name": "python3",
      "display_name": "Python 3"
    },
    "language_info": {
      "codemirror_mode": {
        "name": "ipython",
        "version": 3
      },
      "file_extension": ".py",
      "mimetype": "text/x-python",
      "name": "python",
      "nbconvert_exporter": "python",
      "pygments_lexer": "ipython3",
      "version": "3.7.4"
    },
    "colab": {
      "name": "CRC_deneme.ipynb",
      "provenance": [],
      "include_colab_link": true
    },
    "accelerator": "GPU"
  },
  "cells": [
    {
      "cell_type": "markdown",
      "metadata": {
        "id": "view-in-github",
        "colab_type": "text"
      },
      "source": [
        "<a href=\"https://colab.research.google.com/github/mfseven56/CRC/blob/master/CRC_deneme.ipynb\" target=\"_parent\"><img src=\"https://colab.research.google.com/assets/colab-badge.svg\" alt=\"Open In Colab\"/></a>"
      ]
    },
    {
      "cell_type": "code",
      "metadata": {
        "id": "fU3s47IF3WEz",
        "colab_type": "code",
        "colab": {
          "base_uri": "https://localhost:8080/",
          "height": 83
        },
        "outputId": "6843a8fc-c6f2-496c-d4bf-8e965338ff4e"
      },
      "source": [
        "#COLORACTEL CANCER ABNORMAL TISSUE CLASSIFICATION\n",
        "import keras\n",
        "from keras.layers.normalization import BatchNormalization\n",
        "import numpy as np\n",
        "import math\n",
        "from sklearn.model_selection import train_test_split, StratifiedKFold\n",
        "from keras.layers import Dense, Dropout, Activation, Flatten, Conv2D, MaxPooling2D\n",
        "from keras.models import Sequential, Model\n",
        "from keras.layers import Input,Concatenate\n",
        "from keras.preprocessing.image import ImageDataGenerator\n",
        "from keras.callbacks import EarlyStopping, ModelCheckpoint, ReduceLROnPlateau\n",
        "from keras.utils import np_utils\n",
        "from keras.layers.advanced_activations import LeakyReLU\n",
        "%matplotlib inline\n",
        "keras.backend.set_image_data_format('channels_last')\n"
      ],
      "execution_count": 1,
      "outputs": [
        {
          "output_type": "stream",
          "text": [
            "Using TensorFlow backend.\n"
          ],
          "name": "stderr"
        },
        {
          "output_type": "display_data",
          "data": {
            "text/html": [
              "<p style=\"color: red;\">\n",
              "The default version of TensorFlow in Colab will soon switch to TensorFlow 2.x.<br>\n",
              "We recommend you <a href=\"https://www.tensorflow.org/guide/migrate\" target=\"_blank\">upgrade</a> now \n",
              "or ensure your notebook will continue to use TensorFlow 1.x via the <code>%tensorflow_version 1.x</code> magic:\n",
              "<a href=\"https://colab.research.google.com/notebooks/tensorflow_version.ipynb\" target=\"_blank\">more info</a>.</p>\n"
            ],
            "text/plain": [
              "<IPython.core.display.HTML object>"
            ]
          },
          "metadata": {
            "tags": []
          }
        }
      ]
    },
    {
      "cell_type": "code",
      "metadata": {
        "id": "5SI40sQT4S3O",
        "colab_type": "code",
        "colab": {}
      },
      "source": [
        "import tensorflow.compat.v1 as tf\n"
      ],
      "execution_count": 0,
      "outputs": []
    },
    {
      "cell_type": "code",
      "metadata": {
        "id": "wPtRTmJe3WE7",
        "colab_type": "code",
        "colab": {}
      },
      "source": [
        "# !! Yapay sinir ağı modelini buraya oluşturmak lazım. YSA son katmanında 8 nöron olmalı\n",
        "model = Sequential()\n",
        "model.add(Conv2D(16, kernel_size=(3, 3),activation='linear',input_shape=(150,150,3),padding='same'))\n",
        "model.add(LeakyReLU(alpha=0.1))\n",
        "model.add(MaxPooling2D((2, 2),padding='same'))\n",
        "model.add(Conv2D(32, (3, 3), activation='linear',padding='same'))\n",
        "model.add(LeakyReLU(alpha=0.1))\n",
        "model.add(MaxPooling2D(pool_size=(2, 2),padding='same'))\n",
        "model.add(Conv2D(64, kernel_size=(3, 3),activation='linear',input_shape=(150,150,3),padding='same'))\n",
        "model.add(LeakyReLU(alpha=0.1))\n",
        "model.add(MaxPooling2D((2, 2),padding='same'))\n",
        "model.add(Conv2D(128, (3, 3), activation='linear',padding='same'))\n",
        "model.add(LeakyReLU(alpha=0.1))\n",
        "model.add(MaxPooling2D(pool_size=(2, 2),padding='same'))\n",
        "\n",
        "model.add(Flatten())\n",
        "model.add(Dense(32, activation='linear'))\n",
        "model.add(LeakyReLU(alpha=0.1))\n",
        "model.add(Dense(8, activation='softmax'))"
      ],
      "execution_count": 0,
      "outputs": []
    },
    {
      "cell_type": "code",
      "metadata": {
        "id": "yRzdznSr3WE_",
        "colab_type": "code",
        "colab": {}
      },
      "source": [
        "from keras import optimizers\n",
        "model.compile(optimizer=optimizers.Adam(lr=1e-3), loss='categorical_crossentropy', metrics=['accuracy']) "
      ],
      "execution_count": 0,
      "outputs": []
    },
    {
      "cell_type": "code",
      "metadata": {
        "id": "1rMqSCxL3WFD",
        "colab_type": "code",
        "colab": {
          "base_uri": "https://localhost:8080/",
          "height": 415
        },
        "outputId": "ee1c218a-4543-4ef2-fe65-987e0109dcdf"
      },
      "source": [
        "# Data augmentation\n",
        "batch_size=4\n",
        "\n",
        "train_datagen = ImageDataGenerator(rescale=1./255,\n",
        "                         horizontal_flip = True,\n",
        "                         vertical_flip = True,\n",
        "                         width_shift_range = 0.2,\n",
        "                         height_shift_range = 0.2,\n",
        "                         zoom_range = 0.2,\n",
        "                         rotation_range = 180,\n",
        "                         shear_range=0.2\n",
        "                        )\n",
        "\n",
        "valid_datagen = ImageDataGenerator(rescale=1./255)\n",
        "\n",
        "# !! Aşağıda eğitim verisi yolunun adresini koymak lazım\n",
        "\n",
        "train_generator=train_datagen.flow_from_directory(('C:/Users/fatih/Desktop/data/train'), \n",
        "                                                 target_size=(150,150),\n",
        "                                                 color_mode='rgb',\n",
        "                                                 batch_size=batch_size,\n",
        "                                                 class_mode='categorical',\n",
        "                                                 shuffle=True)\n",
        "\n",
        "# !! Aşağıda doğrulama verisi yolunun adresini koymak lazım\n",
        "\n",
        "valid_generator = valid_datagen.flow_from_directory(('C:/Users/fatih/Desktop/data/valid'), \n",
        "                                                 target_size=(150,150),\n",
        "                                                 color_mode='rgb',\n",
        "                                                 batch_size=batch_size,\n",
        "                                                 class_mode='categorical',\n",
        "                                                 shuffle=True)\n"
      ],
      "execution_count": 12,
      "outputs": [
        {
          "output_type": "error",
          "ename": "FileNotFoundError",
          "evalue": "ignored",
          "traceback": [
            "\u001b[0;31m---------------------------------------------------------------------------\u001b[0m",
            "\u001b[0;31mFileNotFoundError\u001b[0m                         Traceback (most recent call last)",
            "\u001b[0;32m<ipython-input-12-815dd4f9ebf4>\u001b[0m in \u001b[0;36m<module>\u001b[0;34m()\u001b[0m\n\u001b[1;32m     20\u001b[0m                                                  \u001b[0mbatch_size\u001b[0m\u001b[0;34m=\u001b[0m\u001b[0mbatch_size\u001b[0m\u001b[0;34m,\u001b[0m\u001b[0;34m\u001b[0m\u001b[0;34m\u001b[0m\u001b[0m\n\u001b[1;32m     21\u001b[0m                                                  \u001b[0mclass_mode\u001b[0m\u001b[0;34m=\u001b[0m\u001b[0;34m'categorical'\u001b[0m\u001b[0;34m,\u001b[0m\u001b[0;34m\u001b[0m\u001b[0;34m\u001b[0m\u001b[0m\n\u001b[0;32m---> 22\u001b[0;31m                                                  shuffle=True)\n\u001b[0m\u001b[1;32m     23\u001b[0m \u001b[0;34m\u001b[0m\u001b[0m\n\u001b[1;32m     24\u001b[0m \u001b[0;31m# !! Aşağıda doğrulama verisi yolunun adresini koymak lazım\u001b[0m\u001b[0;34m\u001b[0m\u001b[0;34m\u001b[0m\u001b[0;34m\u001b[0m\u001b[0m\n",
            "\u001b[0;32m/usr/local/lib/python3.6/dist-packages/keras_preprocessing/image/image_data_generator.py\u001b[0m in \u001b[0;36mflow_from_directory\u001b[0;34m(self, directory, target_size, color_mode, classes, class_mode, batch_size, shuffle, seed, save_to_dir, save_prefix, save_format, follow_links, subset, interpolation)\u001b[0m\n\u001b[1;32m    538\u001b[0m             \u001b[0mfollow_links\u001b[0m\u001b[0;34m=\u001b[0m\u001b[0mfollow_links\u001b[0m\u001b[0;34m,\u001b[0m\u001b[0;34m\u001b[0m\u001b[0;34m\u001b[0m\u001b[0m\n\u001b[1;32m    539\u001b[0m             \u001b[0msubset\u001b[0m\u001b[0;34m=\u001b[0m\u001b[0msubset\u001b[0m\u001b[0;34m,\u001b[0m\u001b[0;34m\u001b[0m\u001b[0;34m\u001b[0m\u001b[0m\n\u001b[0;32m--> 540\u001b[0;31m             \u001b[0minterpolation\u001b[0m\u001b[0;34m=\u001b[0m\u001b[0minterpolation\u001b[0m\u001b[0;34m\u001b[0m\u001b[0;34m\u001b[0m\u001b[0m\n\u001b[0m\u001b[1;32m    541\u001b[0m         )\n\u001b[1;32m    542\u001b[0m \u001b[0;34m\u001b[0m\u001b[0m\n",
            "\u001b[0;32m/usr/local/lib/python3.6/dist-packages/keras_preprocessing/image/directory_iterator.py\u001b[0m in \u001b[0;36m__init__\u001b[0;34m(self, directory, image_data_generator, target_size, color_mode, classes, class_mode, batch_size, shuffle, seed, data_format, save_to_dir, save_prefix, save_format, follow_links, subset, interpolation, dtype)\u001b[0m\n\u001b[1;32m    104\u001b[0m         \u001b[0;32mif\u001b[0m \u001b[0;32mnot\u001b[0m \u001b[0mclasses\u001b[0m\u001b[0;34m:\u001b[0m\u001b[0;34m\u001b[0m\u001b[0;34m\u001b[0m\u001b[0m\n\u001b[1;32m    105\u001b[0m             \u001b[0mclasses\u001b[0m \u001b[0;34m=\u001b[0m \u001b[0;34m[\u001b[0m\u001b[0;34m]\u001b[0m\u001b[0;34m\u001b[0m\u001b[0;34m\u001b[0m\u001b[0m\n\u001b[0;32m--> 106\u001b[0;31m             \u001b[0;32mfor\u001b[0m \u001b[0msubdir\u001b[0m \u001b[0;32min\u001b[0m \u001b[0msorted\u001b[0m\u001b[0;34m(\u001b[0m\u001b[0mos\u001b[0m\u001b[0;34m.\u001b[0m\u001b[0mlistdir\u001b[0m\u001b[0;34m(\u001b[0m\u001b[0mdirectory\u001b[0m\u001b[0;34m)\u001b[0m\u001b[0;34m)\u001b[0m\u001b[0;34m:\u001b[0m\u001b[0;34m\u001b[0m\u001b[0;34m\u001b[0m\u001b[0m\n\u001b[0m\u001b[1;32m    107\u001b[0m                 \u001b[0;32mif\u001b[0m \u001b[0mos\u001b[0m\u001b[0;34m.\u001b[0m\u001b[0mpath\u001b[0m\u001b[0;34m.\u001b[0m\u001b[0misdir\u001b[0m\u001b[0;34m(\u001b[0m\u001b[0mos\u001b[0m\u001b[0;34m.\u001b[0m\u001b[0mpath\u001b[0m\u001b[0;34m.\u001b[0m\u001b[0mjoin\u001b[0m\u001b[0;34m(\u001b[0m\u001b[0mdirectory\u001b[0m\u001b[0;34m,\u001b[0m \u001b[0msubdir\u001b[0m\u001b[0;34m)\u001b[0m\u001b[0;34m)\u001b[0m\u001b[0;34m:\u001b[0m\u001b[0;34m\u001b[0m\u001b[0;34m\u001b[0m\u001b[0m\n\u001b[1;32m    108\u001b[0m                     \u001b[0mclasses\u001b[0m\u001b[0;34m.\u001b[0m\u001b[0mappend\u001b[0m\u001b[0;34m(\u001b[0m\u001b[0msubdir\u001b[0m\u001b[0;34m)\u001b[0m\u001b[0;34m\u001b[0m\u001b[0;34m\u001b[0m\u001b[0m\n",
            "\u001b[0;31mFileNotFoundError\u001b[0m: [Errno 2] No such file or directory: 'C:/Users/fatih/Desktop/data/train'"
          ]
        }
      ]
    },
    {
      "cell_type": "code",
      "metadata": {
        "id": "x0denkvW3WFH",
        "colab_type": "code",
        "colab": {}
      },
      "source": [
        "#Callbacks\n",
        "def get_callbacks(name_weights, patience_lr):\n",
        "    mcp_save = ModelCheckpoint(name_weights, save_best_only=True, monitor='val_loss', mode='min')\n",
        "    reduce_lr_loss = ReduceLROnPlateau(monitor='loss', factor=0.1, patience=patience_lr, verbose=2, min_delta=1e-4, mode='min')\n",
        "    early_stop_cr=EarlyStopping(monitor='val_loss', min_delta=1e-4, patience=20, verbose=2, mode='auto', restore_best_weights=True)\n",
        "    return [mcp_save, reduce_lr_loss, early_stop_cr]\n"
      ],
      "execution_count": 0,
      "outputs": []
    },
    {
      "cell_type": "code",
      "metadata": {
        "id": "L34yLaJo3WFL",
        "colab_type": "code",
        "colab": {},
        "outputId": "8fba568b-30ec-41dd-cc9c-a7022e9d24bb"
      },
      "source": [
        "step_size_train=train_generator.n//train_generator.batch_size\n",
        "step_size_valid=valid_generator.n//valid_generator.batch_size\n",
        "\n",
        "name_weights = \"final_model3.h5\"\n",
        "callbacks = get_callbacks(name_weights = name_weights, patience_lr=10)\n",
        "\n",
        "model.fit_generator(generator=train_generator,\n",
        "                   steps_per_epoch=step_size_train,\n",
        "                   validation_steps=step_size_valid,\n",
        "                   validation_data=valid_generator,\n",
        "                   epochs=20,\n",
        "                   verbose=1,\n",
        "                   callbacks = callbacks)"
      ],
      "execution_count": 0,
      "outputs": [
        {
          "output_type": "stream",
          "text": [
            "Epoch 1/20\n",
            "1000/1000 [==============================] - 69s 69ms/step - loss: 1.1017 - accuracy: 0.5185 - val_loss: 0.6801 - val_accuracy: 0.6310\n",
            "Epoch 2/20\n",
            "1000/1000 [==============================] - 67s 67ms/step - loss: 0.8308 - accuracy: 0.6622 - val_loss: 1.2123 - val_accuracy: 0.6627\n",
            "Epoch 3/20\n",
            "1000/1000 [==============================] - 67s 67ms/step - loss: 0.7062 - accuracy: 0.7070 - val_loss: 0.1270 - val_accuracy: 0.7262\n",
            "Epoch 4/20\n",
            "1000/1000 [==============================] - 67s 67ms/step - loss: 0.6379 - accuracy: 0.7502 - val_loss: 1.2876 - val_accuracy: 0.7917\n",
            "Epoch 5/20\n",
            "1000/1000 [==============================] - 68s 68ms/step - loss: 0.6211 - accuracy: 0.7605 - val_loss: 0.4502 - val_accuracy: 0.7659\n",
            "Epoch 6/20\n",
            "1000/1000 [==============================] - 68s 68ms/step - loss: 0.6121 - accuracy: 0.7678 - val_loss: 1.1938 - val_accuracy: 0.7917\n",
            "Epoch 7/20\n",
            "1000/1000 [==============================] - 68s 68ms/step - loss: 0.5589 - accuracy: 0.7847 - val_loss: 0.2716 - val_accuracy: 0.7123\n",
            "Epoch 8/20\n",
            "1000/1000 [==============================] - 68s 68ms/step - loss: 0.5345 - accuracy: 0.8060 - val_loss: 0.4865 - val_accuracy: 0.7877\n",
            "Epoch 9/20\n",
            "1000/1000 [==============================] - 69s 69ms/step - loss: 0.5024 - accuracy: 0.8045 - val_loss: 0.3284 - val_accuracy: 0.8571\n",
            "Epoch 10/20\n",
            "1000/1000 [==============================] - 68s 68ms/step - loss: 0.4991 - accuracy: 0.8087 - val_loss: 0.2164 - val_accuracy: 0.8214\n",
            "Epoch 11/20\n",
            "1000/1000 [==============================] - 68s 68ms/step - loss: 0.4616 - accuracy: 0.8257 - val_loss: 0.3019 - val_accuracy: 0.8373\n",
            "Epoch 12/20\n",
            "1000/1000 [==============================] - 67s 67ms/step - loss: 0.4727 - accuracy: 0.8183 - val_loss: 0.0898 - val_accuracy: 0.8512\n",
            "Epoch 13/20\n",
            "1000/1000 [==============================] - 69s 69ms/step - loss: 0.4688 - accuracy: 0.8242 - val_loss: 0.6840 - val_accuracy: 0.8135\n",
            "Epoch 14/20\n",
            "1000/1000 [==============================] - 69s 69ms/step - loss: 0.4444 - accuracy: 0.8363 - val_loss: 0.0623 - val_accuracy: 0.8393\n",
            "Epoch 15/20\n",
            "1000/1000 [==============================] - 69s 69ms/step - loss: 0.4325 - accuracy: 0.8322 - val_loss: 0.1827 - val_accuracy: 0.8194\n",
            "Epoch 16/20\n",
            "1000/1000 [==============================] - 69s 69ms/step - loss: 0.4438 - accuracy: 0.8340 - val_loss: 0.1890 - val_accuracy: 0.8274\n",
            "Epoch 17/20\n",
            "1000/1000 [==============================] - 71s 71ms/step - loss: 0.4098 - accuracy: 0.8533 - val_loss: 0.3086 - val_accuracy: 0.8651\n",
            "Epoch 18/20\n",
            "1000/1000 [==============================] - 69s 69ms/step - loss: 0.4203 - accuracy: 0.8453 - val_loss: 0.7202 - val_accuracy: 0.8294\n",
            "Epoch 19/20\n",
            "1000/1000 [==============================] - 70s 70ms/step - loss: 0.3960 - accuracy: 0.8550 - val_loss: 0.2043 - val_accuracy: 0.8175\n",
            "Epoch 20/20\n",
            "1000/1000 [==============================] - 68s 68ms/step - loss: 0.3863 - accuracy: 0.8520 - val_loss: 0.0696 - val_accuracy: 0.9067\n"
          ],
          "name": "stdout"
        },
        {
          "output_type": "execute_result",
          "data": {
            "text/plain": [
              "<keras.callbacks.callbacks.History at 0x8b81767c8>"
            ]
          },
          "metadata": {
            "tags": []
          },
          "execution_count": 6
        }
      ]
    },
    {
      "cell_type": "code",
      "metadata": {
        "id": "wgbQuY5F3WFP",
        "colab_type": "code",
        "colab": {},
        "outputId": "e00dcb6b-16b4-41de-9393-e2855209c328"
      },
      "source": [
        "model.evaluate_generator(generator=valid_generator, steps=step_size_valid)"
      ],
      "execution_count": 0,
      "outputs": [
        {
          "output_type": "execute_result",
          "data": {
            "text/plain": [
              "[0.06963846832513809, 0.9067460298538208]"
            ]
          },
          "metadata": {
            "tags": []
          },
          "execution_count": 7
        }
      ]
    },
    {
      "cell_type": "code",
      "metadata": {
        "id": "FO1iqVu73WFT",
        "colab_type": "code",
        "colab": {},
        "outputId": "2279037c-7964-4c39-a65a-802e4bead2f7"
      },
      "source": [
        "test_datagen = ImageDataGenerator(rescale=1./255)\n",
        "\n",
        "test_generator = test_datagen.flow_from_directory(('C:/Users/fatih/Desktop/data/test'), \n",
        "                                                 target_size=(150,150),\n",
        "                                                 color_mode='rgb',\n",
        "                                                 batch_size=batch_size,\n",
        "                                                 class_mode='categorical',\n",
        "                                                 shuffle=False)\n",
        "step_size_test=test_generator.n//test_generator.batch_size\n",
        "model.evaluate_generator(generator=test_generator, steps=step_size_test)"
      ],
      "execution_count": 0,
      "outputs": [
        {
          "output_type": "stream",
          "text": [
            "Found 496 images belonging to 8 classes.\n"
          ],
          "name": "stdout"
        },
        {
          "output_type": "execute_result",
          "data": {
            "text/plain": [
              "[0.11514195799827576, 0.8911290168762207]"
            ]
          },
          "metadata": {
            "tags": []
          },
          "execution_count": 8
        }
      ]
    },
    {
      "cell_type": "code",
      "metadata": {
        "id": "MLRiGCde3WFW",
        "colab_type": "code",
        "colab": {},
        "outputId": "3392e2c0-6a7c-478b-b6cd-3013a4b81774"
      },
      "source": [
        "\n",
        "import PIL\n",
        "import matplotlib.pyplot as plt # Graph\n",
        "from PIL import Image\n",
        "import numpy\n",
        "for i in range(1,41):\n",
        "    img = Image.open('C:/Users/fatih/Desktop/a/'+str(i)+'.tif')\n",
        "   # imgarr = img.convert(\"L\")\n",
        "    imgarr = numpy.array(img)\n",
        "    imgarr=imgarr/255\n",
        "    imgarr = imgarr.reshape((1,150,150,3))\n",
        "    \n",
        "    predictions = model.predict(imgarr)\n",
        "#print(predictions)\n",
        "    print (numpy.argmax(predictions))\n",
        "    plt.show()"
      ],
      "execution_count": 0,
      "outputs": [
        {
          "output_type": "stream",
          "text": [
            "0\n",
            "0\n",
            "3\n",
            "3\n",
            "0\n",
            "4\n",
            "1\n",
            "7\n",
            "1\n",
            "1\n",
            "2\n",
            "6\n",
            "5\n",
            "2\n",
            "2\n",
            "3\n",
            "3\n",
            "3\n",
            "3\n",
            "3\n",
            "4\n",
            "4\n",
            "4\n",
            "4\n",
            "4\n",
            "5\n",
            "5\n",
            "5\n",
            "5\n",
            "5\n",
            "6\n",
            "6\n",
            "1\n",
            "6\n",
            "1\n",
            "7\n",
            "7\n",
            "7\n",
            "7\n",
            "4\n"
          ],
          "name": "stdout"
        }
      ]
    },
    {
      "cell_type": "code",
      "metadata": {
        "id": "0mWVvhRI3WFa",
        "colab_type": "code",
        "colab": {},
        "outputId": "57395137-bd45-4219-bb8d-a29b6a1d6b07"
      },
      "source": [
        "img\n"
      ],
      "execution_count": 0,
      "outputs": [
        {
          "output_type": "execute_result",
          "data": {
            "image/png": "[encoded data removed]",
            "text/plain": [
              "<PIL.TiffImagePlugin.TiffImageFile image mode=RGB size=150x150 at 0x8A3F55988>"
            ]
          },
          "metadata": {
            "tags": []
          },
          "execution_count": 10
        }
      ]
    },
    {
      "cell_type": "code",
      "metadata": {
        "id": "dUc-VjkJ3WFe",
        "colab_type": "code",
        "colab": {}
      },
      "source": [
        ""
      ],
      "execution_count": 0,
      "outputs": []
    }
  ]
}